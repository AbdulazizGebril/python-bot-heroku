{
 "cells": [
  {
   "cell_type": "code",
   "execution_count": null,
   "metadata": {},
   "outputs": [],
   "source": [
    "# Dependencies\n",
    "import os\n",
    "import tweepy\n",
    "import time\n",
    "from datetime import datetime\n",
    "import json\n",
    "from config import (consumer_key, \n",
    "                    consumer_secret, \n",
    "                    access_token, \n",
    "                    access_token_secret)"
   ]
  },
  {
   "cell_type": "code",
   "execution_count": null,
   "metadata": {},
   "outputs": [],
   "source": [
    "# Twitter API Keys\n",
    "try:\n",
    "    consumer_key = os.environ['CONSUMER_KEY']\n",
    "    consumer_secret = os.environ['CONSUMER_SECRET']\n",
    "    access_token = os.environ['ACCESS_TOKEN']\n",
    "    access_token_secret = os.environ['ACCESS_TOKEN_SECRET']\n",
    "except:\n",
    "    consumer_key = consumer_key\n",
    "    consumer_secret = consumer_secret\n",
    "    access_token = access_token \n",
    "    access_token_secret = access_token_secret\n"
   ]
  },
  {
   "cell_type": "code",
   "execution_count": null,
   "metadata": {},
   "outputs": [],
   "source": [
    "# Setup Tweepy API Authentication\n",
    "auth = tweepy.OAuthHandler(consumer_key, consumer_secret)\n",
    "auth.set_access_token(access_token, access_token_secret)\n",
    "api = tweepy.API(auth, parser=tweepy.parsers.JSONParser())"
   ]
  },
  {
   "cell_type": "code",
   "execution_count": null,
   "metadata": {},
   "outputs": [],
   "source": [
    "# Create a function that tweets\n",
    "def TweetOut(minutes):\n",
    "    api.update_status(\n",
    "        f\"Can't stop. Won't stop. I've been tweeting for {minutes} minutes!\")"
   ]
  },
  {
   "cell_type": "code",
   "execution_count": null,
   "metadata": {},
   "outputs": [],
   "source": [
    "# Make something to tweet to avoid duplicates\n",
    "\n",
    "then = datetime(2018, 7, 5, 15, 17, 25)        \n",
    "now  = datetime.now() \n",
    "duration = now - then                         \n",
    "seconds = duration.total_seconds()\n",
    "minutes = round(divmod(seconds, 60)[0])"
   ]
  },
  {
   "cell_type": "code",
   "execution_count": null,
   "metadata": {},
   "outputs": [],
   "source": [
    "# Infinitely loop\n",
    "while(True):\n",
    "\n",
    "    # Call the TweetQuotes function and specify the tweet number\n",
    "    TweetOut(minutes)\n",
    "\n",
    "    # Once tweeted, wait 60 seconds before doing anything else\n",
    "    time.sleep(60)\n"
   ]
  },
  {
   "cell_type": "code",
   "execution_count": null,
   "metadata": {},
   "outputs": [],
   "source": []
  }
 ],
 "metadata": {
  "kernelspec": {
   "display_name": "Python [conda env:PythonData]",
   "language": "python",
   "name": "conda-env-PythonData-py"
  },
  "language_info": {
   "codemirror_mode": {
    "name": "ipython",
    "version": 3
   },
   "file_extension": ".py",
   "mimetype": "text/x-python",
   "name": "python",
   "nbconvert_exporter": "python",
   "pygments_lexer": "ipython3",
   "version": "3.6.5"
  }
 },
 "nbformat": 4,
 "nbformat_minor": 2
}
